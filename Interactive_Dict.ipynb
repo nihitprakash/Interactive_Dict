{
 "cells": [
  {
   "cell_type": "code",
   "execution_count": 2,
   "metadata": {},
   "outputs": [],
   "source": [
    "import numpy as np\n",
    "import pandas as pd\n",
    "import matplotlib.pyplot as plt\n",
    "import seaborn as sns\n",
    "import warnings\n",
    "warnings.filterwarnings(\"ignore\")\n",
    "%matplotlib inline\n",
    "#%matplotlib notebook\n",
    "\n",
    "pd.set_option(\"display.max_columns\", 100)"
   ]
  },
  {
   "cell_type": "code",
   "execution_count": 3,
   "metadata": {},
   "outputs": [],
   "source": [
    "import json\n",
    "import difflib\n",
    "from difflib import SequenceMatcher\n",
    "from difflib import get_close_matches"
   ]
  },
  {
   "cell_type": "code",
   "execution_count": 4,
   "metadata": {},
   "outputs": [],
   "source": [
    "#Reading in Dictionary data\n",
    "\n",
    "data = json.load(open(r\"C:\\Users\\33805\\Desktop\\My Documents\\Learning\\Data Sc Projects\\Python App Series\\Interactive Dictionary\\dictionary.json\"))"
   ]
  },
  {
   "cell_type": "code",
   "execution_count": 26,
   "metadata": {},
   "outputs": [
    {
     "name": "stdout",
     "output_type": "stream",
     "text": [
      "Enter a word: dashi\n",
      "dashi :\n",
      "- A class of soup and cooking stocks considered fundamental to Japanese cooking.\n"
     ]
    }
   ],
   "source": [
    "#defining function for retrieving definition\n",
    "\n",
    "def retr_def(word):\n",
    "    word = word.lower()\n",
    "    if word in data:\n",
    "        return word, data[word]\n",
    "    elif word.title() in data:\n",
    "        return word.title(), data[word.title()]\n",
    "    elif word.upper() in data:\n",
    "        return word.upper(), data[word.upper()]     \n",
    "    elif len(get_close_matches(word, data.keys())) >0:\n",
    "        alternate = get_close_matches(word, data.keys())[0]\n",
    "        \n",
    "        action = input(\"Did you mean %s instead? [Y or N]: \" %alternate)\n",
    "        \n",
    "        if action == \"Y\":\n",
    "            return alternate, data[alternate]\n",
    "        if action == \"N\":\n",
    "            print (\"Sorry, the word doesn't exist, yet.\")\n",
    "        else:\n",
    "            print (\"Sorry, we dont understand your entry.\")\n",
    "        \n",
    "    else:\n",
    "        print(\"The word doesn't exist, please check\")\n",
    "\n",
    "#Input from user \n",
    "word_user = input(\"Enter a word: \")\n",
    "\n",
    "#storing word and meaning from function\n",
    "\n",
    "#word, meaning = retr_def(word_user)\n",
    "#print(word, \": \", meaning)\n",
    "\n",
    "while True:\n",
    "    try:\n",
    "        word, meaning = retr_def(word_user)\n",
    "        if type(meaning) == list:\n",
    "            print(word, \":\")\n",
    "            for item in meaning:\n",
    "                print(\"-\", item)\n",
    "        else:\n",
    "            print(word, \":\")\n",
    "            print(\"-\", meaning)\n",
    "        break\n",
    "    except TypeError:\n",
    "        break\n",
    "        \n",
    "\n",
    "#else:\n",
    "    #print (\"\")\n"
   ]
  }
 ],
 "metadata": {
  "kernelspec": {
   "display_name": "Python 3",
   "language": "python",
   "name": "python3"
  },
  "language_info": {
   "codemirror_mode": {
    "name": "ipython",
    "version": 3
   },
   "file_extension": ".py",
   "mimetype": "text/x-python",
   "name": "python",
   "nbconvert_exporter": "python",
   "pygments_lexer": "ipython3",
   "version": "3.6.5"
  },
  "toc": {
   "base_numbering": 1,
   "nav_menu": {},
   "number_sections": true,
   "sideBar": true,
   "skip_h1_title": false,
   "title_cell": "Table of Contents",
   "title_sidebar": "Contents",
   "toc_cell": false,
   "toc_position": {},
   "toc_section_display": true,
   "toc_window_display": false
  }
 },
 "nbformat": 4,
 "nbformat_minor": 2
}
